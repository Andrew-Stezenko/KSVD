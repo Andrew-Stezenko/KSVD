{
 "cells": [
  {
   "cell_type": "code",
   "execution_count": 1,
   "metadata": {},
   "outputs": [],
   "source": [
    "import turtle\n",
    "\n",
    "class KochSnowflake:\n",
    "    def __init__(self, t, size):\n",
    "        self.size = size\n",
    "        self.n = 3  # Рівень рекурсії\n",
    "        self.t = t\n",
    "        self.t.speed(0)\n",
    "        self.t.hideturtle() \n",
    "\n",
    "    def koch(self, size, n):\n",
    "        if n == 0:\n",
    "            self.t.forward(size)\n",
    "        else:\n",
    "            self.koch(size / 3, n - 1)\n",
    "            self.t.left(60)\n",
    "            self.koch(size / 3, n - 1)\n",
    "            self.t.right(120)\n",
    "            self.koch(size / 3, n - 1)\n",
    "            self.t.left(60)\n",
    "            self.koch(size / 3, n - 1)\n",
    "\n",
    "    def draw_koch(self):\n",
    "        for i in range(3):\n",
    "            self.koch(self.size, self.n)\n",
    "            self.t.right(120)\n",
    "\n",
    "width = 1200\n",
    "height = 600\n",
    "screen = turtle.Screen()\n",
    "screen.setup(width, height, 0, 0)\n",
    "\n",
    "t = turtle.Turtle()\n",
    "t.penup()\n",
    "t.pendown()\n",
    "\n",
    "snowflake = KochSnowflake(t, 300)\n",
    "snowflake.draw_koch()\n",
    "\n",
    "turtle.done()\n"
   ]
  }
 ],
 "metadata": {
  "kernelspec": {
   "display_name": "Python 3",
   "language": "python",
   "name": "python3"
  },
  "language_info": {
   "codemirror_mode": {
    "name": "ipython",
    "version": 3
   },
   "file_extension": ".py",
   "mimetype": "text/x-python",
   "name": "python",
   "nbconvert_exporter": "python",
   "pygments_lexer": "ipython3",
   "version": "3.12.2"
  }
 },
 "nbformat": 4,
 "nbformat_minor": 2
}
