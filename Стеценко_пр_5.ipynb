{
  "cells": [
    {
      "cell_type": "code",
      "execution_count": 153,
      "metadata": {
        "colab": {
          "base_uri": "https://localhost:8080/"
        },
        "id": "ayJPDYygDtoD",
        "outputId": "061fb070-2f04-4a72-f5b6-b0999e081f99"
      },
      "outputs": [
        {
          "name": "stdout",
          "output_type": "stream",
          "text": [
            "Requirement already satisfied: pyspark==3.0.1 in /usr/local/lib/python3.10/dist-packages (3.0.1)\n",
            "Requirement already satisfied: py4j==0.10.9 in /usr/local/lib/python3.10/dist-packages (0.10.9)\n"
          ]
        }
      ],
      "source": [
        "!pip install pyspark==3.0.1 py4j==0.10.9"
      ]
    },
    {
      "cell_type": "code",
      "execution_count": 154,
      "metadata": {
        "id": "2lLEawTGEL-K"
      },
      "outputs": [],
      "source": [
        "from pyspark.sql import SparkSession\n",
        "from pyspark.sql.functions import mean, when, col\n",
        "import matplotlib.pyplot as plt\n",
        "\n",
        "spark = SparkSession.builder\\\n",
        "        .master(\"local[*]\")\\\n",
        "        .appName('PySpark_Tutorial')\\\n",
        "        .getOrCreate()"
      ]
    },
    {
      "cell_type": "markdown",
      "metadata": {
        "id": "vaRqQX2NJcIb"
      },
      "source": [
        "Прочитайте CSV файл spark.read.csv()"
      ]
    },
    {
      "cell_type": "code",
      "execution_count": 155,
      "metadata": {
        "id": "J0aNFS2JEOzp"
      },
      "outputs": [],
      "source": [
        "data = spark.read.csv(\n",
        "    'bestsellers with categories.csv',\n",
        "    sep=',',\n",
        "    header=True,\n",
        ")"
      ]
    },
    {
      "cell_type": "markdown",
      "metadata": {
        "id": "9c-D130pJbXX"
      },
      "source": [
        "2.\tВивести схему даних за допомогою PrintSchema."
      ]
    },
    {
      "cell_type": "code",
      "execution_count": 156,
      "metadata": {
        "colab": {
          "base_uri": "https://localhost:8080/"
        },
        "id": "rxUbThxWEzLB",
        "outputId": "fc55bea9-79ef-4b0b-834b-96640dfaebfa"
      },
      "outputs": [
        {
          "name": "stdout",
          "output_type": "stream",
          "text": [
            "root\n",
            " |-- Name: string (nullable = true)\n",
            " |-- Author: string (nullable = true)\n",
            " |-- User Rating: string (nullable = true)\n",
            " |-- Reviews: string (nullable = true)\n",
            " |-- Price: string (nullable = true)\n",
            " |-- Year: string (nullable = true)\n",
            " |-- Genre: string (nullable = true)\n",
            "\n"
          ]
        }
      ],
      "source": [
        "data.printSchema()"
      ]
    },
    {
      "cell_type": "markdown",
      "metadata": {
        "id": "ZGsxL3zMJsXh"
      },
      "source": [
        "3.\tВивести назви стовпців і типи даних за допомогою dtypes"
      ]
    },
    {
      "cell_type": "code",
      "execution_count": 157,
      "metadata": {
        "colab": {
          "base_uri": "https://localhost:8080/"
        },
        "id": "YNq7KWY-JuK6",
        "outputId": "c59e0f8a-a883-4ee4-fa49-d9050d4417fc"
      },
      "outputs": [
        {
          "data": {
            "text/plain": [
              "[('Name', 'string'),\n",
              " ('Author', 'string'),\n",
              " ('User Rating', 'string'),\n",
              " ('Reviews', 'string'),\n",
              " ('Price', 'string'),\n",
              " ('Year', 'string'),\n",
              " ('Genre', 'string')]"
            ]
          },
          "execution_count": 157,
          "metadata": {},
          "output_type": "execute_result"
        }
      ],
      "source": [
        "data.dtypes"
      ]
    },
    {
      "cell_type": "markdown",
      "metadata": {
        "id": "_qzVBEVNJuv8"
      },
      "source": [
        "4.\tВиведіть перші п'ять рядків (використовується метод head)"
      ]
    },
    {
      "cell_type": "code",
      "execution_count": 158,
      "metadata": {
        "colab": {
          "base_uri": "https://localhost:8080/"
        },
        "id": "ASRFfojaJxR-",
        "outputId": "f5a28fb1-5b2c-4ef0-d7e5-c093d04d0386"
      },
      "outputs": [
        {
          "data": {
            "text/plain": [
              "[Row(Name='10-Day Green Smoothie Cleanse', Author='JJ Smith', User Rating='4.7', Reviews='17350', Price='8', Year='2016', Genre='Non Fiction'),\n",
              " Row(Name='11/22/63: A Novel', Author='Stephen King', User Rating='4.6', Reviews='2052', Price='22', Year='2011', Genre='Fiction'),\n",
              " Row(Name='12 Rules for Life: An Antidote to Chaos', Author='Jordan B. Peterson', User Rating='4.7', Reviews='18979', Price='15', Year='2018', Genre='Non Fiction'),\n",
              " Row(Name='1984 (Signet Classics)', Author='George Orwell', User Rating='4.7', Reviews='21424', Price='6', Year='2017', Genre='Fiction'),\n",
              " Row(Name='5,000 Awesome Facts (About Everything!) (National Geographic Kids)', Author='National Geographic Kids', User Rating='4.8', Reviews='7665', Price='12', Year='2019', Genre='Non Fiction')]"
            ]
          },
          "execution_count": 158,
          "metadata": {},
          "output_type": "execute_result"
        }
      ],
      "source": [
        "data.head(5)"
      ]
    },
    {
      "cell_type": "markdown",
      "metadata": {
        "id": "YUBlCzVKJxlE"
      },
      "source": [
        "5.\tВивести перший рядок за допомогою first()"
      ]
    },
    {
      "cell_type": "code",
      "execution_count": 159,
      "metadata": {
        "colab": {
          "base_uri": "https://localhost:8080/"
        },
        "id": "o4J8SUoFJ4K9",
        "outputId": "d59691b9-4014-49e4-dd0d-f719c99dace1"
      },
      "outputs": [
        {
          "data": {
            "text/plain": [
              "Row(Name='10-Day Green Smoothie Cleanse', Author='JJ Smith', User Rating='4.7', Reviews='17350', Price='8', Year='2016', Genre='Non Fiction')"
            ]
          },
          "execution_count": 159,
          "metadata": {},
          "output_type": "execute_result"
        }
      ],
      "source": [
        "data.first()"
      ]
    },
    {
      "cell_type": "markdown",
      "metadata": {
        "id": "SE4-0ffXJzUI"
      },
      "source": [
        "6.\tЗробіть опис датасету за допомогою describe()"
      ]
    },
    {
      "cell_type": "code",
      "execution_count": 160,
      "metadata": {
        "colab": {
          "base_uri": "https://localhost:8080/"
        },
        "id": "dlTFnB9AJzHG",
        "outputId": "4dae9b94-ecfa-4183-bc08-6c638117b30a"
      },
      "outputs": [
        {
          "name": "stdout",
          "output_type": "stream",
          "text": [
            "+-------+--------------------+----------------+-------------------+------------------+------------------+------------------+-----------+\n",
            "|summary|                Name|          Author|        User Rating|           Reviews|             Price|              Year|      Genre|\n",
            "+-------+--------------------+----------------+-------------------+------------------+------------------+------------------+-----------+\n",
            "|  count|                 550|             550|                550|               550|               550|               550|        550|\n",
            "|   mean|                null|            null|  4.618363636363641|11953.281818181818|              13.1|            2014.0|       null|\n",
            "| stddev|                null|            null|0.22698036502519656|11731.132017431892|10.842261978422364|3.1651563841692782|       null|\n",
            "|    min|\"The Plant Parado...|Abraham Verghese|                3.3|             10009|                 0|              2009|    Fiction|\n",
            "|    max|You Are a Badass:...|    Zhi Gang Sha|                4.9|              9967|                 9|              2019|Non Fiction|\n",
            "+-------+--------------------+----------------+-------------------+------------------+------------------+------------------+-----------+\n",
            "\n"
          ]
        }
      ],
      "source": [
        "data.describe().show()"
      ]
    },
    {
      "cell_type": "markdown",
      "metadata": {
        "id": "Bp-79PacJ7BP"
      },
      "source": [
        "7.\tВиведіть список стовпців за допомогою columns()"
      ]
    },
    {
      "cell_type": "code",
      "execution_count": 161,
      "metadata": {
        "colab": {
          "base_uri": "https://localhost:8080/"
        },
        "id": "D2r0K48bJ8Wn",
        "outputId": "cca944af-e2a7-4e2f-9c65-6e893c6f0c2a"
      },
      "outputs": [
        {
          "data": {
            "text/plain": [
              "['Name', 'Author', 'User Rating', 'Reviews', 'Price', 'Year', 'Genre']"
            ]
          },
          "execution_count": 161,
          "metadata": {},
          "output_type": "execute_result"
        }
      ],
      "source": [
        "data.columns"
      ]
    },
    {
      "cell_type": "markdown",
      "metadata": {
        "id": "C5He0OByJ8nr"
      },
      "source": [
        "8.\tВиведіть загальну кількість рядків даних за допомогою count()"
      ]
    },
    {
      "cell_type": "code",
      "execution_count": 162,
      "metadata": {
        "colab": {
          "base_uri": "https://localhost:8080/"
        },
        "id": "YYQsv956KNOz",
        "outputId": "048dc1a1-b8ba-4ba1-8fbe-a9f991fd104c"
      },
      "outputs": [
        {
          "data": {
            "text/plain": [
              "550"
            ]
          },
          "execution_count": 162,
          "metadata": {},
          "output_type": "execute_result"
        }
      ],
      "source": [
        "data.count()"
      ]
    },
    {
      "cell_type": "markdown",
      "metadata": {
        "id": "lETTaiKKJ-Fb"
      },
      "source": [
        "9.\tПеревірте, чи у всіх рядків вистачає даних. Якщо є пропуски, замінить їх на NaN, потім тип даних на числовий."
      ]
    },
    {
      "cell_type": "code",
      "execution_count": 163,
      "metadata": {
        "id": "OiaQU1osKNxr"
      },
      "outputs": [],
      "source": [
        "data = data.na.fill('NaN')"
      ]
    },
    {
      "cell_type": "markdown",
      "metadata": {
        "id": "nW_5xCLPJ_I1"
      },
      "source": [
        "10.\tЗамініть комірки з пропущеними значенями на середні за стовпцем. І тип даних на float. Про скільки книг зберігає дані датасет?"
      ]
    },
    {
      "cell_type": "code",
      "execution_count": 164,
      "metadata": {
        "colab": {
          "base_uri": "https://localhost:8080/"
        },
        "id": "KFMM_UO6KOGP",
        "outputId": "671e189e-4a9a-45b9-d9f7-8dcac1d58f3a"
      },
      "outputs": [
        {
          "name": "stdout",
          "output_type": "stream",
          "text": [
            "Кількість книг у датасеті: 550\n"
          ]
        }
      ],
      "source": [
        "mean_values = data.select([mean(col(column)).alias(column) for column in data.columns if column != 'name']).toPandas().to_dict('records')[0]\n",
        "\n",
        "# Заміна NaN на середнє значення за стовпцем\n",
        "for column in mean_values:\n",
        "    data = data.withColumn(column, when(col(column) == 'NaN', mean_values[column]).otherwise(col(column)))\n",
        "\n",
        "# Зміна типу на float\n",
        "for column in data.columns:\n",
        "    data = data.withColumn(column, data[column].cast('float'))\n",
        "\n",
        "print(\"Кількість книг у датасеті:\", data.count())"
      ]
    },
    {
      "cell_type": "markdown",
      "metadata": {
        "id": "IqlttxLhKAHZ"
      },
      "source": [
        "11.\tЗмініть назви всіх колонок: назва з маленької букви, без пробілів через підкреслення."
      ]
    },
    {
      "cell_type": "code",
      "execution_count": 165,
      "metadata": {
        "id": "xJgIgZG1KOVV"
      },
      "outputs": [],
      "source": [
        "data = data.toDF('name', 'author', 'user_rating', 'reviews', 'price', 'year', 'genre')"
      ]
    },
    {
      "cell_type": "markdown",
      "metadata": {
        "id": "rlfVbQklKFhQ"
      },
      "source": [
        "12.\tdf.columns = ['name', 'author', 'user_rating', 'reviews', 'price', 'year', 'genre']"
      ]
    },
    {
      "cell_type": "code",
      "execution_count": 166,
      "metadata": {
        "colab": {
          "base_uri": "https://localhost:8080/"
        },
        "id": "Y4PTzFKuKOpO",
        "outputId": "5224c20c-5465-4551-fab4-6ce5a5a1d8b7"
      },
      "outputs": [
        {
          "data": {
            "text/plain": [
              "['name', 'author', 'user_rating', 'reviews', 'price', 'year', 'genre']"
            ]
          },
          "execution_count": 166,
          "metadata": {},
          "output_type": "execute_result"
        }
      ],
      "source": [
        "data.columns"
      ]
    },
    {
      "cell_type": "markdown",
      "metadata": {
        "id": "4aCTop2aKHT4"
      },
      "source": [
        "13.\tЗнайдіть автора з найвищим рейтингом."
      ]
    },
    {
      "cell_type": "code",
      "execution_count": 167,
      "metadata": {
        "colab": {
          "base_uri": "https://localhost:8080/"
        },
        "id": "hDQzb4mFKPPz",
        "outputId": "2b3f170f-068a-4f30-85ad-bc1ee9612900"
      },
      "outputs": [
        {
          "name": "stdout",
          "output_type": "stream",
          "text": [
            "Автор з найвищим рейтингом: None\n"
          ]
        }
      ],
      "source": [
        "top_rating_author = data.orderBy(data.user_rating.desc()).select(\"author\").first()[0]\n",
        "print(\"Автор з найвищим рейтингом:\", top_rating_author)"
      ]
    },
    {
      "cell_type": "markdown",
      "metadata": {
        "id": "s14tLWNdKIWQ"
      },
      "source": [
        "14.\tЗнайдіть автора з найнижчим рейтингом."
      ]
    },
    {
      "cell_type": "code",
      "execution_count": 168,
      "metadata": {
        "colab": {
          "base_uri": "https://localhost:8080/"
        },
        "id": "XvnepALTKPnU",
        "outputId": "74d7b528-46d4-4d9f-9c78-e4f26fbc6008"
      },
      "outputs": [
        {
          "name": "stdout",
          "output_type": "stream",
          "text": [
            "Автор з найнижчим рейтингом: None\n"
          ]
        }
      ],
      "source": [
        "lowest_rating_author = data.orderBy(data.user_rating).select(\"author\").first()[0]\n",
        "print(\"Автор з найнижчим рейтингом:\", lowest_rating_author)"
      ]
    },
    {
      "cell_type": "markdown",
      "metadata": {
        "id": "VOFaBdnbKJKf"
      },
      "source": [
        "15.\tЗнайдіть автора, що має найбільшу кількіть рецензій."
      ]
    },
    {
      "cell_type": "code",
      "execution_count": 169,
      "metadata": {
        "colab": {
          "base_uri": "https://localhost:8080/"
        },
        "id": "m0mmxMNNKP9J",
        "outputId": "53927d87-6b9c-4f4d-ac0e-bd547c0d380f"
      },
      "outputs": [
        {
          "name": "stdout",
          "output_type": "stream",
          "text": [
            "Автор з найбільшою кількістю рецензій: None\n"
          ]
        }
      ],
      "source": [
        "most_reviews_author = data.orderBy(data.reviews.desc()).select(\"author\").first()[0]\n",
        "print(\"Автор з найбільшою кількістю рецензій:\", most_reviews_author)"
      ]
    },
    {
      "cell_type": "markdown",
      "metadata": {
        "id": "5NH5m8joKJ-L"
      },
      "source": [
        "16.\tПобудуйте гістограму рейтингу 10 найкращих книг (відібрати книги з найбільшим рейтингом)."
      ]
    },
    {
      "cell_type": "code",
      "execution_count": 170,
      "metadata": {
        "colab": {
          "base_uri": "https://localhost:8080/",
          "height": 472
        },
        "id": "27py1HihKQVL",
        "outputId": "815f4404-be46-4dd6-a7f6-e7dcda2b4117"
      },
      "outputs": [
        {
          "data": {
            "image/png": "[encoded data removed]",
            "text/plain": [
              "<Figure size 640x480 with 1 Axes>"
            ]
          },
          "metadata": {},
          "output_type": "display_data"
        }
      ],
      "source": [
        "top_10_books = data.orderBy(data['user_rating'].desc()).limit(10)\n",
        "ratings = top_10_books.select('user_rating').rdd.flatMap(lambda x: x).collect()\n",
        "plt.hist(ratings, bins=10, edgecolor='black')\n",
        "plt.xlabel('Рейтинг')\n",
        "plt.ylabel('Кількість книг')\n",
        "plt.title('Гістограма рейтингу 10 найкращих книг')\n",
        "plt.show()"
      ]
    },
    {
      "cell_type": "markdown",
      "metadata": {
        "id": "g9-VfzcjKK3T"
      },
      "source": [
        "17.\tПобудуйте матрицю кореляції для стовпчиків 'user_rating', 'reviews', 'price'."
      ]
    },
    {
      "cell_type": "code",
      "execution_count": 171,
      "metadata": {
        "colab": {
          "base_uri": "https://localhost:8080/"
        },
        "id": "SdDpzDPmKMM5",
        "outputId": "798b8000-16ae-49e4-895e-6cbc77cae671"
      },
      "outputs": [
        {
          "name": "stdout",
          "output_type": "stream",
          "text": [
            "Матриця кореляції:\n",
            "             user_rating   reviews     price\n",
            "user_rating     1.000000 -0.001729 -0.133086\n",
            "reviews        -0.001729  1.000000 -0.109182\n",
            "price          -0.133086 -0.109182  1.000000\n"
          ]
        }
      ],
      "source": [
        "correlation_matrix = data.select(['user_rating', 'reviews', 'price']).toPandas().corr()\n",
        "print(\"Матриця кореляції:\")\n",
        "print(correlation_matrix)"
      ]
    }
  ],
  "metadata": {
    "colab": {
      "provenance": []
    },
    "kernelspec": {
      "display_name": "Python 3",
      "name": "python3"
    },
    "language_info": {
      "name": "python",
      "version": "3.12.2"
    }
  },
  "nbformat": 4,
  "nbformat_minor": 0
}
